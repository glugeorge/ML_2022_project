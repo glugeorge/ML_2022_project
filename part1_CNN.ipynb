{
 "cells": [
  {
   "cell_type": "markdown",
   "id": "97f3676e-44dc-40fb-bb4e-f2c2eefe1775",
   "metadata": {},
   "source": [
    "# Part 1: Training a Convolutional Neural Network"
   ]
  },
  {
   "cell_type": "code",
   "execution_count": 1,
   "id": "60a4138f-96f2-493f-aad3-6c4b31d1506f",
   "metadata": {},
   "outputs": [],
   "source": [
    "import os\n",
    "import numpy as np\n",
    "import pandas as pd\n",
    "import matplotlib.pyplot as plt\n",
    "import xarray as xr\n",
    "from glob import glob\n",
    "\n",
    "import tensorflow as tf\n",
    "from tensorflow import keras\n",
    "from tensorflow.keras.models import Model, load_model\n",
    "from tensorflow.keras.layers import *\n",
    "from tensorflow.keras import Sequential\n",
    "from utils import * \n",
    "\n",
    "%matplotlib inline\n",
    "%config InlineBackend.figure_format = 'retina'\n",
    "%load_ext autoreload\n",
    "%autoreload 2\n",
    "\n",
    "plt.rcParams['savefig.dpi'] = 400\n",
    "plt.rcParams['font.size'] = 13\n",
    "plt.rcParams[\"legend.frameon\"] = False"
   ]
  },
  {
   "cell_type": "code",
   "execution_count": 2,
   "id": "31e2f812-662f-4f3a-87fa-d37e6f1437f0",
   "metadata": {},
   "outputs": [],
   "source": [
    "cwd = os.getcwd()\n",
    "\n",
    "train_path = os.path.join(cwd,'Data','train_val')\n",
    "test_path  = os.path.join(cwd,'Data','test')"
   ]
  },
  {
   "cell_type": "code",
   "execution_count": 3,
   "id": "c72e01da-9862-44b0-afc5-27955863ae85",
   "metadata": {},
   "outputs": [],
   "source": [
    "input_train = xr.open_dataset(os.path.join(train_path,'forcing_train.nc'))\n",
    "input_test = xr.open_dataset(os.path.join(test_path,'forcing_test.nc'))\n"
   ]
  },
  {
   "cell_type": "code",
   "execution_count": 4,
   "id": "3d9febb1-452e-4ff9-a606-8cdedbca3a84",
   "metadata": {},
   "outputs": [],
   "source": [
    "output_train = xr.open_dataset(os.path.join(train_path,'member_165_train.nc'))\n",
    "output_test = xr.open_dataset(os.path.join(test_path,'member_165_test.nc'))\n",
    "\n",
    "output_train = output_train.sel(x=slice(-3024000,3040000), y=slice(-3024000,3040000))\n",
    "output_test = output_test.sel(x=slice(-3024000,3040000), y=slice(-3024000,3040000))"
   ]
  },
  {
   "cell_type": "code",
   "execution_count": 5,
   "id": "6fdbca75-3ffb-422a-a594-38e7ae056c6b",
   "metadata": {},
   "outputs": [],
   "source": [
    "X_train_df = pd.DataFrame({\"delta_T\": input_train.delta_T.data},index=input_train.delta_T.coords['time'].data)"
   ]
  },
  {
   "cell_type": "code",
   "execution_count": 6,
   "id": "bac00504-a4de-4357-84c5-7dd3afc453d7",
   "metadata": {},
   "outputs": [],
   "source": [
    "y_train = output_train.velsurf_mag.fillna(0).data"
   ]
  },
  {
   "cell_type": "code",
   "execution_count": 7,
   "id": "2a40317a-a501-41c9-bac5-49c70f1120de",
   "metadata": {},
   "outputs": [],
   "source": [
    "X_train = X_train_df.to_numpy()"
   ]
  },
  {
   "cell_type": "code",
   "execution_count": 8,
   "id": "91c1d3eb-3ec2-46ea-8bea-8757e6b14277",
   "metadata": {},
   "outputs": [
    {
     "name": "stdout",
     "output_type": "stream",
     "text": [
      "(1049, 1) (1049, 381, 381)\n"
     ]
    }
   ],
   "source": [
    "print(X_train.shape,y_train.shape)"
   ]
  },
  {
   "cell_type": "code",
   "execution_count": 9,
   "id": "f0b8402b-d4d9-493a-a37d-6f51cf3bae07",
   "metadata": {},
   "outputs": [],
   "source": [
    "from tensorflow.keras import backend as K\n",
    "\n",
    "def custom_rmse(y_true, y_pred):\n",
    "    \"\"\"\n",
    "    custom_rmse(y_true, y_pred)\n",
    "    calculates root square mean value with focusing only on the ocean\n",
    "    \"\"\"\n",
    "    y_pred = y_pred[(y_true != 0) & (y_true != 0.0)]\n",
    "    y_true = y_true[(y_true != 0) & (y_true != 0.0)]\n",
    "    \n",
    "    y_pred = tf.convert_to_tensor(y_pred)\n",
    "    y_true = tf.cast(y_true, y_pred.dtype)\n",
    "\n",
    "    return K.sqrt(K.mean(tf.math.squared_difference(y_pred, y_true),axis= -1))"
   ]
  },
  {
   "cell_type": "code",
   "execution_count": 10,
   "id": "8f82c2e6-687e-4271-9b11-f1afc46ff68c",
   "metadata": {},
   "outputs": [],
   "source": [
    "n_filters  = 9  # number of filters\n",
    "n_neurons  = 32  # number of neurons in the Dense layer\n",
    "activation     = 'relu' # activation function\n",
    "kernel_size    = 3\n",
    "learning_rate  = 0.01\n",
    "minibatch_size = 64\n",
    "num_epochs     = 100"
   ]
  },
  {
   "cell_type": "code",
   "execution_count": 11,
   "id": "ce26f900-cb18-4f06-b85a-0b5850a9d5ce",
   "metadata": {},
   "outputs": [
    {
     "name": "stderr",
     "output_type": "stream",
     "text": [
      "2022-11-16 14:19:44.584360: I tensorflow/core/platform/cpu_feature_guard.cc:193] This TensorFlow binary is optimized with oneAPI Deep Neural Network Library (oneDNN) to use the following CPU instructions in performance-critical operations:  SSE4.1 SSE4.2\n",
      "To enable them in other operations, rebuild TensorFlow with the appropriate compiler flags.\n"
     ]
    }
   ],
   "source": [
    "model = Sequential()\n",
    "\n",
    "model.add(Dense(n_filters*127*127, input_shape=(X_train.shape[1],), activation=activation)) # shape: (6912,1)\n",
    "model.add(Reshape((127,127,n_filters))) # shape: (12,18,32)\n",
    "\n",
    "# Upsample to 96x144\n",
    "model.add(Conv2DTranspose(filters=n_filters, kernel_size=kernel_size, \n",
    "                          activation=activation, strides=3, padding='same')) # shape: (96,144,32)\n",
    "\n",
    "model.add(Conv2DTranspose(filters=1, kernel_size=kernel_size, activation=\"linear\", padding=\"same\")) # shape: (96,144,1)\n",
    "\n",
    "\n",
    "model.compile(loss=custom_rmse,optimizer=tf.keras.optimizers.Adam(learning_rate=learning_rate))"
   ]
  },
  {
   "cell_type": "code",
   "execution_count": 12,
   "id": "b174f7c0-55c6-45be-acf5-ec7036e46745",
   "metadata": {},
   "outputs": [
    {
     "name": "stdout",
     "output_type": "stream",
     "text": [
      "Model: \"sequential\"\n",
      "_________________________________________________________________\n",
      " Layer (type)                Output Shape              Param #   \n",
      "=================================================================\n",
      " dense (Dense)               (None, 145161)            290322    \n",
      "                                                                 \n",
      " reshape (Reshape)           (None, 127, 127, 9)       0         \n",
      "                                                                 \n",
      " conv2d_transpose (Conv2DTra  (None, 381, 381, 9)      738       \n",
      " nspose)                                                         \n",
      "                                                                 \n",
      " conv2d_transpose_1 (Conv2DT  (None, 381, 381, 1)      82        \n",
      " ranspose)                                                       \n",
      "                                                                 \n",
      "=================================================================\n",
      "Total params: 291,142\n",
      "Trainable params: 291,142\n",
      "Non-trainable params: 0\n",
      "_________________________________________________________________\n"
     ]
    }
   ],
   "source": [
    "model.summary()"
   ]
  },
  {
   "cell_type": "code",
   "execution_count": null,
   "id": "b80285b3-2ee2-4348-ac88-38083459e6b6",
   "metadata": {
    "scrolled": true,
    "tags": []
   },
   "outputs": [
    {
     "name": "stdout",
     "output_type": "stream",
     "text": [
      "Epoch 1/100\n",
      "14/14 [==============================] - 18s 1s/step - loss: 185.8925 - val_loss: 124.4899\n",
      "Epoch 2/100\n",
      "14/14 [==============================] - 17s 1s/step - loss: 183.7090 - val_loss: 116.0143\n",
      "Epoch 3/100\n",
      "14/14 [==============================] - 19s 1s/step - loss: 172.3245 - val_loss: 105.2388\n",
      "Epoch 4/100\n",
      "14/14 [==============================] - 30s 2s/step - loss: 153.4816 - val_loss: 120.5420\n",
      "Epoch 5/100\n",
      "14/14 [==============================] - 16s 1s/step - loss: 138.4327 - val_loss: 110.8876\n",
      "Epoch 6/100\n",
      "14/14 [==============================] - 18s 1s/step - loss: 127.8453 - val_loss: 111.6966\n",
      "Epoch 7/100\n",
      "14/14 [==============================] - 17s 1s/step - loss: 120.0449 - val_loss: 106.1059\n",
      "Epoch 8/100\n",
      "14/14 [==============================] - 22s 2s/step - loss: 113.7906 - val_loss: 101.7658\n",
      "Epoch 9/100\n",
      "14/14 [==============================] - 18s 1s/step - loss: 109.9615 - val_loss: 100.2386\n",
      "Epoch 10/100\n",
      "14/14 [==============================] - 21s 1s/step - loss: 107.3170 - val_loss: 94.9474\n",
      "Epoch 11/100\n",
      "14/14 [==============================] - 21s 1s/step - loss: 105.0340 - val_loss: 94.0627\n",
      "Epoch 12/100\n",
      "14/14 [==============================] - 32s 2s/step - loss: 103.1859 - val_loss: 89.1198\n",
      "Epoch 13/100\n",
      "14/14 [==============================] - 28s 2s/step - loss: 101.4680 - val_loss: 87.5649\n",
      "Epoch 14/100\n",
      "14/14 [==============================] - 22s 2s/step - loss: 100.0691 - val_loss: 84.0212\n",
      "Epoch 15/100\n",
      "14/14 [==============================] - 19s 1s/step - loss: 98.9721 - val_loss: 84.3194\n",
      "Epoch 16/100\n",
      "14/14 [==============================] - 19s 1s/step - loss: 97.8647 - val_loss: 83.3743\n",
      "Epoch 17/100\n",
      "14/14 [==============================] - 19s 1s/step - loss: 96.8915 - val_loss: 78.8251\n",
      "Epoch 18/100\n",
      "14/14 [==============================] - 20s 1s/step - loss: 96.1060 - val_loss: 77.5307\n",
      "Epoch 19/100\n",
      "14/14 [==============================] - 19s 1s/step - loss: 95.3798 - val_loss: 77.7995\n",
      "Epoch 20/100\n",
      "14/14 [==============================] - 19s 1s/step - loss: 94.9172 - val_loss: 75.6269\n",
      "Epoch 21/100\n",
      "14/14 [==============================] - 16s 1s/step - loss: 94.4351 - val_loss: 74.9473\n",
      "Epoch 22/100\n",
      "14/14 [==============================] - 16s 1s/step - loss: 94.1991 - val_loss: 75.3782\n",
      "Epoch 23/100\n",
      "14/14 [==============================] - 15s 1s/step - loss: 93.8148 - val_loss: 74.2281\n",
      "Epoch 24/100\n",
      "14/14 [==============================] - 18s 1s/step - loss: 93.5989 - val_loss: 73.5582\n",
      "Epoch 25/100\n",
      "14/14 [==============================] - 16s 1s/step - loss: 93.3105 - val_loss: 72.7711\n",
      "Epoch 26/100\n",
      "14/14 [==============================] - 16s 1s/step - loss: 93.0332 - val_loss: 71.9958\n",
      "Epoch 27/100\n",
      "14/14 [==============================] - 16s 1s/step - loss: 92.8986 - val_loss: 72.3789\n",
      "Epoch 28/100\n",
      "14/14 [==============================] - 16s 1s/step - loss: 92.7521 - val_loss: 71.7111\n",
      "Epoch 29/100\n",
      "14/14 [==============================] - 18s 1s/step - loss: 92.5760 - val_loss: 71.3265\n",
      "Epoch 30/100\n",
      "14/14 [==============================] - 21s 2s/step - loss: 92.4803 - val_loss: 73.1526\n",
      "Epoch 31/100\n",
      "14/14 [==============================] - 20s 1s/step - loss: 92.3954 - val_loss: 70.4876\n",
      "Epoch 32/100\n",
      "14/14 [==============================] - 28s 2s/step - loss: 92.2350 - val_loss: 70.6724\n",
      "Epoch 33/100\n",
      "14/14 [==============================] - 26s 2s/step - loss: 92.1312 - val_loss: 69.7178\n",
      "Epoch 34/100\n",
      "14/14 [==============================] - 36s 3s/step - loss: 91.9940 - val_loss: 70.4779\n",
      "Epoch 35/100\n"
     ]
    }
   ],
   "source": [
    "early_stop = keras.callbacks.EarlyStopping(monitor='val_loss', patience=20)\n",
    "\n",
    "\n",
    "history = model.fit(X_train, y_train, \n",
    "                    batch_size      = minibatch_size,\n",
    "                    epochs          = num_epochs,\n",
    "                    validation_split= 0.2, \n",
    "                    verbose         = 1,\n",
    "                    callbacks       = [early_stop])\n",
    "\n"
   ]
  },
  {
   "cell_type": "code",
   "execution_count": null,
   "id": "b45701ca-43c6-4cd9-bb9d-b0896324c547",
   "metadata": {},
   "outputs": [],
   "source": [
    "plot_history(history)"
   ]
  },
  {
   "cell_type": "code",
   "execution_count": null,
   "id": "ff12a1a9-e941-4928-b26e-d54795b95544",
   "metadata": {},
   "outputs": [],
   "source": [
    "model_path = os.path.join(cwd,'saved_model')\n",
    "make_dir(model_path)"
   ]
  },
  {
   "cell_type": "code",
   "execution_count": null,
   "id": "a71cd423-c553-4035-8bdf-e6cc8e285bec",
   "metadata": {},
   "outputs": [],
   "source": [
    "model.save(os.path.join(model_path,'CNN_model_1_member.h5'))"
   ]
  },
  {
   "cell_type": "markdown",
   "id": "7944e45a-e17b-4e44-b187-ed7c16957c58",
   "metadata": {},
   "source": [
    "## Testing"
   ]
  },
  {
   "cell_type": "code",
   "execution_count": null,
   "id": "a40124ed-b077-46f2-ac3c-56866ad962d8",
   "metadata": {},
   "outputs": [],
   "source": [
    "model = load_model(os.path.join(model_path,'CNN_model_1_member.h5'),custom_objects={'custom_rmse':custom_rmse})"
   ]
  },
  {
   "cell_type": "code",
   "execution_count": null,
   "id": "36e5fc6e-dce0-4587-aaf9-81938c7f1913",
   "metadata": {},
   "outputs": [],
   "source": [
    "X_test_df = pd.DataFrame({\"delta_T\": input_test.delta_T.data},index=input_test.delta_T.coords['time'].data)"
   ]
  },
  {
   "cell_type": "code",
   "execution_count": null,
   "id": "15213738-ef39-4940-b868-15d1d8132749",
   "metadata": {},
   "outputs": [],
   "source": [
    "y_test_df = output_test.velsurf_mag.fillna(0)"
   ]
  },
  {
   "cell_type": "code",
   "execution_count": null,
   "id": "39ea5901-2e3a-48e3-a244-5bd2670825d8",
   "metadata": {},
   "outputs": [],
   "source": [
    "X_test = X_test_df.to_numpy()\n"
   ]
  },
  {
   "cell_type": "code",
   "execution_count": null,
   "id": "3258c5b8-b9f8-4497-ae74-c283f8238e87",
   "metadata": {},
   "outputs": [],
   "source": [
    "y_test_pre = model.predict(X_test)\n"
   ]
  },
  {
   "cell_type": "code",
   "execution_count": null,
   "id": "67a3713a-2612-4a2a-a0a2-46ae42029b31",
   "metadata": {},
   "outputs": [],
   "source": [
    "y_test_pre_rs = y_test_pre.reshape(y_test_df.shape[0],y_test_df.shape[1],y_test_df.shape[2])\n",
    "\n",
    "y_test_pre_xr = xr.Dataset(coords={'time': X_test_df.index.values, \n",
    "                               'x': y_test_df.x.values, \n",
    "                               'y': y_test_df.y.values},\n",
    "                       data_vars=dict(velsurf_mag=(['time', 'y', 'x'], y_test_pre_rs)))"
   ]
  },
  {
   "cell_type": "code",
   "execution_count": null,
   "id": "b1201548-4ef1-4914-b0f0-10cbd52fd0f1",
   "metadata": {},
   "outputs": [],
   "source": [
    "y_test_pre_xr"
   ]
  },
  {
   "cell_type": "code",
   "execution_count": null,
   "id": "63d0a903-af75-4604-8ad3-86196171bb54",
   "metadata": {},
   "outputs": [],
   "source": [
    "y_true =  y_test_df"
   ]
  },
  {
   "cell_type": "code",
   "execution_count": null,
   "id": "3ef4226e-9ae1-42c2-a1b2-11a5b403926c",
   "metadata": {},
   "outputs": [],
   "source": [
    "y_true"
   ]
  },
  {
   "cell_type": "code",
   "execution_count": null,
   "id": "77ef4a8e-4489-4a69-a4d5-b0b22a5183bb",
   "metadata": {},
   "outputs": [],
   "source": [
    "y_test_pre_xr.velsurf_mag.mean(dim=['x','y']).plot()\n",
    "y_true.mean(dim=['x','y']).plot()"
   ]
  },
  {
   "cell_type": "code",
   "execution_count": null,
   "id": "36d2fab7-1445-48b2-a3fd-ee0a28ff9a55",
   "metadata": {},
   "outputs": [],
   "source": [
    "(y_true-y_test_pre_xr.velsurf_mag).mean(dim='time').plot()"
   ]
  },
  {
   "cell_type": "code",
   "execution_count": null,
   "id": "049026e8-bf81-41eb-9c77-96bf9e23cb4f",
   "metadata": {},
   "outputs": [],
   "source": [
    "y_true.mean(dim='time').plot()"
   ]
  },
  {
   "cell_type": "code",
   "execution_count": null,
   "id": "56060b98-2c17-47f5-9c45-8784c2420dcc",
   "metadata": {},
   "outputs": [],
   "source": [
    "y_test_pre_xr.velsurf_mag.mean(dim='time').plot()"
   ]
  },
  {
   "cell_type": "code",
   "execution_count": null,
   "id": "7be5bde3-99ac-429a-9c79-8b95fb1ff2e5",
   "metadata": {},
   "outputs": [],
   "source": [
    "fig, axes = plt.subplots(figsize=(15,12),ncols=2,nrows=3)\n",
    "\n",
    "yrs = [-19800, -10000, 0]\n",
    "vmin, vmax    = 0, 2500\n",
    "cmap = 'RdBu_r'\n",
    "y_test_pre_xr.velsurf_mag.sel(time=yrs[0]).plot(ax=axes[0,0], vmin=vmin, vmax=vmax,cmap=cmap)\n",
    "y_true.sel(time=yrs[0]).plot(ax=axes[0,1], vmin=vmin, vmax=vmax,cmap=cmap)\n",
    "\n",
    "y_test_pre_xr.velsurf_mag.sel(time=yrs[1]).plot(ax=axes[1,0], vmin=vmin, vmax=vmax,cmap=cmap)\n",
    "y_true.sel(time=yrs[1]).plot(ax=axes[1,1], vmin=vmin, vmax=vmax,cmap=cmap)\n",
    "\n",
    "y_test_pre_xr.velsurf_mag.sel(time=yrs[2]).plot(ax=axes[2,0], vmin=vmin, vmax=vmax,cmap=cmap)\n",
    "y_true.sel(time=yrs[2]).plot(ax=axes[2,1], vmin=vmin, vmax=vmax,cmap=cmap)\n",
    "\n",
    "\n",
    "for i, ax in enumerate(axes.flat):\n",
    "    # left column: model prediction\n",
    "    if i % 2 == 0:\n",
    "        ax.set_title(f'tas model prediction (year = {yrs[i//2]})',fontweight='bold')\n",
    "    # right column: truth tas from ssp245 simulations\n",
    "    else:\n",
    "        ax.set_title(f'tas truth (year = {yrs[i//2]})',fontweight='bold')\n",
    "plt.tight_layout()"
   ]
  },
  {
   "cell_type": "code",
   "execution_count": null,
   "id": "9c2c11d7-3f19-4f76-9a98-5994621b9ba5",
   "metadata": {},
   "outputs": [],
   "source": []
  }
 ],
 "metadata": {
  "kernelspec": {
   "display_name": "Python 3 (ipykernel)",
   "language": "python",
   "name": "python3"
  },
  "language_info": {
   "codemirror_mode": {
    "name": "ipython",
    "version": 3
   },
   "file_extension": ".py",
   "mimetype": "text/x-python",
   "name": "python",
   "nbconvert_exporter": "python",
   "pygments_lexer": "ipython3",
   "version": "3.10.6"
  }
 },
 "nbformat": 4,
 "nbformat_minor": 5
}
